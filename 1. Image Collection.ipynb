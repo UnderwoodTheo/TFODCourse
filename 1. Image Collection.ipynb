{
 "cells": [
  {
   "cell_type": "markdown",
   "metadata": {},
   "source": [
    "# 1. Import Dependencies"
   ]
  },
  {
   "cell_type": "code",
   "execution_count": 1,
   "metadata": {},
   "outputs": [
    {
     "name": "stdout",
     "output_type": "stream",
     "text": [
      "Requirement already satisfied: opencv-python in c:\\users\\théo\\desktop\\esilv\\a5\\s9\\veille\\slr\\slrvenv\\lib\\site-packages (4.6.0.66)\n",
      "Requirement already satisfied: numpy>=1.14.5 in c:\\users\\théo\\desktop\\esilv\\a5\\s9\\veille\\slr\\slrvenv\\lib\\site-packages (from opencv-python) (1.23.5)\n",
      "Note: you may need to restart the kernel to use updated packages.\n"
     ]
    }
   ],
   "source": [
    "%pip install opencv-python"
   ]
  },
  {
   "cell_type": "code",
   "execution_count": 2,
   "metadata": {},
   "outputs": [],
   "source": [
    "# Import opencv\n",
    "import cv2 \n",
    "\n",
    "# Import uuid\n",
    "import uuid\n",
    "\n",
    "# Import Operating System\n",
    "import os\n",
    "\n",
    "# Import time\n",
    "import time"
   ]
  },
  {
   "cell_type": "markdown",
   "metadata": {},
   "source": [
    "# 2. Define Images to Collect"
   ]
  },
  {
   "cell_type": "code",
   "execution_count": 6,
   "metadata": {},
   "outputs": [],
   "source": [
    "labels = ['A', 'B', 'C']\n",
    "number_imgs = 5"
   ]
  },
  {
   "cell_type": "markdown",
   "metadata": {},
   "source": [
    "# 3. Setup Folders "
   ]
  },
  {
   "cell_type": "code",
   "execution_count": 4,
   "metadata": {},
   "outputs": [],
   "source": [
    "IMAGES_PATH = os.path.join('Tensorflow', 'workspace', 'images', 'collectedimages')"
   ]
  },
  {
   "cell_type": "code",
   "execution_count": 5,
   "metadata": {},
   "outputs": [],
   "source": [
    "if not os.path.exists(IMAGES_PATH):\n",
    "    if os.name == 'posix':\n",
    "        !mkdir -p {IMAGES_PATH}\n",
    "    if os.name == 'nt':\n",
    "         !mkdir {IMAGES_PATH}\n",
    "for label in labels:\n",
    "    path = os.path.join(IMAGES_PATH, label)\n",
    "    if not os.path.exists(path):\n",
    "        !mkdir {path}"
   ]
  },
  {
   "cell_type": "markdown",
   "metadata": {},
   "source": [
    "# 4. Capture Images"
   ]
  },
  {
   "cell_type": "code",
   "execution_count": 46,
   "metadata": {},
   "outputs": [
    {
     "name": "stdout",
     "output_type": "stream",
     "text": [
      "Collecting images for A\n",
      "Collecting image 0\n",
      "Collecting image 1\n",
      "Collecting image 2\n",
      "Collecting image 3\n",
      "Collecting image 4\n"
     ]
    }
   ],
   "source": [
    "for label in labels[:1]:\n",
    "    cap = cv2.VideoCapture(0)\n",
    "    print('Collecting images for {}'.format(label))\n",
    "    time.sleep(5)\n",
    "    for imgnum in range(number_imgs):\n",
    "        print('Collecting image {}'.format(imgnum))\n",
    "        time.sleep(2)\n",
    "        ret, frame = cap.read()\n",
    "        imgname = os.path.join(IMAGES_PATH,label,label+'.'+'{}.jpg'.format(str(uuid.uuid1())))\n",
    "        cv2.imwrite(imgname, frame)\n",
    "        cv2.imshow('frame', frame)\n",
    "        \n",
    "        if cv2.waitKey(1) & 0xFF == ord('q'):\n",
    "            break                                                                                                                                                                                  \n",
    "cap.release()\n",
    "cv2.destroyAllWindows()"
   ]
  },
  {
   "cell_type": "markdown",
   "metadata": {},
   "source": [
    "# 5. Image Labelling"
   ]
  },
  {
   "cell_type": "code",
   "execution_count": 31,
   "metadata": {},
   "outputs": [
    {
     "name": "stdout",
     "output_type": "stream",
     "text": [
      "Collecting pyqt5\n",
      "  Downloading PyQt5-5.15.7-cp37-abi3-win_amd64.whl (6.8 MB)\n",
      "     ---------------------------------------- 6.8/6.8 MB 3.5 MB/s eta 0:00:00\n",
      "Collecting lxml\n",
      "  Downloading lxml-4.9.1-cp310-cp310-win_amd64.whl (3.6 MB)\n",
      "     ---------------------------------------- 3.6/3.6 MB 3.6 MB/s eta 0:00:00\n",
      "Collecting PyQt5-sip<13,>=12.11\n",
      "  Downloading PyQt5_sip-12.11.0-cp310-cp310-win_amd64.whl (78 kB)\n",
      "     ---------------------------------------- 78.3/78.3 kB 1.4 MB/s eta 0:00:00\n",
      "Collecting PyQt5-Qt5>=5.15.0\n",
      "  Downloading PyQt5_Qt5-5.15.2-py3-none-win_amd64.whl (50.1 MB)\n",
      "     ---------------------------------------- 50.1/50.1 MB 1.6 MB/s eta 0:00:00\n",
      "Installing collected packages: PyQt5-Qt5, PyQt5-sip, lxml, pyqt5\n",
      "Successfully installed PyQt5-Qt5-5.15.2 PyQt5-sip-12.11.0 lxml-4.9.1 pyqt5-5.15.7\n",
      "Collecting pyqt5\n",
      "  Using cached PyQt5-5.15.7-cp37-abi3-win_amd64.whl (6.8 MB)\n",
      "Collecting lxml\n",
      "  Using cached lxml-4.9.1-cp310-cp310-win_amd64.whl (3.6 MB)\n",
      "Collecting PyQt5-sip<13,>=12.11\n",
      "  Using cached PyQt5_sip-12.11.0-cp310-cp310-win_amd64.whl (78 kB)\n",
      "Collecting PyQt5-Qt5>=5.15.0\n",
      "  Downloading PyQt5_Qt5-5.15.2-py3-none-win_amd64.whl (50.1 MB)\n",
      "     ---------------------------------------- 50.1/50.1 MB 1.3 MB/s eta 0:00:00\n",
      "Installing collected packages: PyQt5-Qt5, PyQt5-sip, lxml, pyqt5\n",
      "Successfully installed PyQt5-Qt5-5.15.2 PyQt5-sip-12.11.0 lxml-4.9.1 pyqt5-5.15.7\n",
      "Note: you may need to restart the kernel to use updated packages.\n"
     ]
    }
   ],
   "source": [
    "%pip install --upgrade pyqt5 lxml"
   ]
  },
  {
   "cell_type": "code",
   "execution_count": 36,
   "metadata": {},
   "outputs": [],
   "source": [
    "LABELIMG_PATH = os.path.join('Tensorflow', 'labelimg')"
   ]
  },
  {
   "cell_type": "code",
   "execution_count": 37,
   "metadata": {},
   "outputs": [
    {
     "name": "stderr",
     "output_type": "stream",
     "text": [
      "Cloning into 'Tensorflow\\labelimg'...\n"
     ]
    }
   ],
   "source": [
    "if not os.path.exists(LABELIMG_PATH):\n",
    "    !mkdir {LABELIMG_PATH}\n",
    "    !git clone https://github.com/tzutalin/labelImg {LABELIMG_PATH}"
   ]
  },
  {
   "cell_type": "code",
   "execution_count": 38,
   "metadata": {},
   "outputs": [],
   "source": [
    "if os.name == 'posix':\n",
    "    !make qt5py3\n",
    "if os.name =='nt':\n",
    "    !cd {LABELIMG_PATH} && pyrcc5 -o libs/resources.py resources.qrc"
   ]
  },
  {
   "cell_type": "code",
   "execution_count": 47,
   "metadata": {},
   "outputs": [
    {
     "name": "stdout",
     "output_type": "stream",
     "text": [
      "Image:C:\\Users\\Théo\\Desktop\\ESILV\\A5\\S9\\Veille\\SLR\\Tensorflow\\workspace\\images\\collectedimages\\A\\A.e5ac3869-75bf-11ed-9658-98e7f45fe2e2.jpg -> Annotation:C:/Users/Théo/Desktop/ESILV/A5/S9/Veille/SLR/Tensorflow/workspace/images/collectedimages/A\\A.e5ac3869-75bf-11ed-9658-98e7f45fe2e2.xml\n",
      "Image:C:\\Users\\Théo\\Desktop\\ESILV\\A5\\S9\\Veille\\SLR\\Tensorflow\\workspace\\images\\collectedimages\\A\\A.e6e492be-75bf-11ed-a2de-98e7f45fe2e2.jpg -> Annotation:C:/Users/Théo/Desktop/ESILV/A5/S9/Veille/SLR/Tensorflow/workspace/images/collectedimages/A\\A.e6e492be-75bf-11ed-a2de-98e7f45fe2e2.xml\n",
      "Image:C:\\Users\\Théo\\Desktop\\ESILV\\A5\\S9\\Veille\\SLR\\Tensorflow\\workspace\\images\\collectedimages\\A\\A.e81c42b4-75bf-11ed-b56d-98e7f45fe2e2.jpg -> Annotation:C:/Users/Théo/Desktop/ESILV/A5/S9/Veille/SLR/Tensorflow/workspace/images/collectedimages/A\\A.e81c42b4-75bf-11ed-b56d-98e7f45fe2e2.xml\n",
      "Image:C:\\Users\\Théo\\Desktop\\ESILV\\A5\\S9\\Veille\\SLR\\Tensorflow\\workspace\\images\\collectedimages\\A\\A.e475300d-75bf-11ed-b93c-98e7f45fe2e2.jpg -> Annotation:C:/Users/Théo/Desktop/ESILV/A5/S9/Veille/SLR/Tensorflow/workspace/images/collectedimages/A\\A.e475300d-75bf-11ed-b93c-98e7f45fe2e2.xml\n",
      "Image:C:\\Users\\Théo\\Desktop\\ESILV\\A5\\S9\\Veille\\SLR\\Tensorflow\\workspace\\images\\collectedimages\\A\\A.e9539215-75bf-11ed-83d3-98e7f45fe2e2.jpg -> Annotation:C:/Users/Théo/Desktop/ESILV/A5/S9/Veille/SLR/Tensorflow/workspace/images/collectedimages/A\\A.e9539215-75bf-11ed-83d3-98e7f45fe2e2.xml\n",
      "Image:C:\\Users\\Théo\\Desktop\\ESILV\\A5\\S9\\Veille\\SLR\\Tensorflow\\workspace\\images\\collectedimages\\B\\B.a0a36f7b-75bf-11ed-afdb-98e7f45fe2e2.jpg -> Annotation:C:/Users/Théo/Desktop/ESILV/A5/S9/Veille/SLR/Tensorflow/workspace/images/collectedimages/B\\B.a0a36f7b-75bf-11ed-afdb-98e7f45fe2e2.xml\n",
      "Image:C:\\Users\\Théo\\Desktop\\ESILV\\A5\\S9\\Veille\\SLR\\Tensorflow\\workspace\\images\\collectedimages\\B\\B.a1dc1886-75bf-11ed-b0a9-98e7f45fe2e2.jpg -> Annotation:C:/Users/Théo/Desktop/ESILV/A5/S9/Veille/SLR/Tensorflow/workspace/images/collectedimages/B\\B.a1dc1886-75bf-11ed-b0a9-98e7f45fe2e2.xml\n",
      "Image:C:\\Users\\Théo\\Desktop\\ESILV\\A5\\S9\\Veille\\SLR\\Tensorflow\\workspace\\images\\collectedimages\\B\\B.a44bbfaf-75bf-11ed-abcf-98e7f45fe2e2.jpg -> Annotation:C:/Users/Théo/Desktop/ESILV/A5/S9/Veille/SLR/Tensorflow/workspace/images/collectedimages/B\\B.a44bbfaf-75bf-11ed-abcf-98e7f45fe2e2.xml\n",
      "Image:C:\\Users\\Théo\\Desktop\\ESILV\\A5\\S9\\Veille\\SLR\\Tensorflow\\workspace\\images\\collectedimages\\B\\B.a583d6cb-75bf-11ed-86c9-98e7f45fe2e2.jpg -> Annotation:C:/Users/Théo/Desktop/ESILV/A5/S9/Veille/SLR/Tensorflow/workspace/images/collectedimages/B\\B.a583d6cb-75bf-11ed-86c9-98e7f45fe2e2.xml\n",
      "Image:C:\\Users\\Théo\\Desktop\\ESILV\\A5\\S9\\Veille\\SLR\\Tensorflow\\workspace\\images\\collectedimages\\B\\B.a314247f-75bf-11ed-9e38-98e7f45fe2e2.jpg -> Annotation:C:/Users/Théo/Desktop/ESILV/A5/S9/Veille/SLR/Tensorflow/workspace/images/collectedimages/B\\B.a314247f-75bf-11ed-9e38-98e7f45fe2e2.xml\n",
      "Image:C:\\Users\\Théo\\Desktop\\ESILV\\A5\\S9\\Veille\\SLR\\Tensorflow\\workspace\\images\\collectedimages\\C\\C.8ea41c8e-75bd-11ed-92a0-98e7f45fe2e2.jpg -> Annotation:C:/Users/Théo/Desktop/ESILV/A5/S9/Veille/SLR/Tensorflow/workspace/images/collectedimages/C\\C.8ea41c8e-75bd-11ed-92a0-98e7f45fe2e2.xml\n",
      "Image:C:\\Users\\Théo\\Desktop\\ESILV\\A5\\S9\\Veille\\SLR\\Tensorflow\\workspace\\images\\collectedimages\\C\\C.8fdd421e-75bd-11ed-8beb-98e7f45fe2e2.jpg -> Annotation:C:/Users/Théo/Desktop/ESILV/A5/S9/Veille/SLR/Tensorflow/workspace/images/collectedimages/C\\C.8fdd421e-75bd-11ed-8beb-98e7f45fe2e2.xml\n",
      "Image:C:\\Users\\Théo\\Desktop\\ESILV\\A5\\S9\\Veille\\SLR\\Tensorflow\\workspace\\images\\collectedimages\\C\\C.924d45f4-75bd-11ed-8bfe-98e7f45fe2e2.jpg -> Annotation:C:/Users/Théo/Desktop/ESILV/A5/S9/Veille/SLR/Tensorflow/workspace/images/collectedimages/C\\C.924d45f4-75bd-11ed-8bfe-98e7f45fe2e2.xml\n",
      "Image:C:\\Users\\Théo\\Desktop\\ESILV\\A5\\S9\\Veille\\SLR\\Tensorflow\\workspace\\images\\collectedimages\\C\\C.9114cc22-75bd-11ed-83e0-98e7f45fe2e2.jpg -> Annotation:C:/Users/Théo/Desktop/ESILV/A5/S9/Veille/SLR/Tensorflow/workspace/images/collectedimages/C\\C.9114cc22-75bd-11ed-83e0-98e7f45fe2e2.xml\n",
      "Image:C:\\Users\\Théo\\Desktop\\ESILV\\A5\\S9\\Veille\\SLR\\Tensorflow\\workspace\\images\\collectedimages\\C\\C.93852272-75bd-11ed-a127-98e7f45fe2e2.jpg -> Annotation:C:/Users/Théo/Desktop/ESILV/A5/S9/Veille/SLR/Tensorflow/workspace/images/collectedimages/C\\C.93852272-75bd-11ed-a127-98e7f45fe2e2.xml\n"
     ]
    }
   ],
   "source": [
    "!cd {LABELIMG_PATH} && python labelImg.py"
   ]
  },
  {
   "cell_type": "markdown",
   "metadata": {},
   "source": [
    "# 6. Move them into a Training and Testing Partition"
   ]
  },
  {
   "cell_type": "markdown",
   "metadata": {},
   "source": [
    "# OPTIONAL - 7. Compress them for Colab Training"
   ]
  },
  {
   "cell_type": "code",
   "execution_count": 20,
   "metadata": {},
   "outputs": [],
   "source": [
    "TRAIN_PATH = os.path.join('Tensorflow', 'workspace', 'images', 'train')\n",
    "TEST_PATH = os.path.join('Tensorflow', 'workspace', 'images', 'test')\n",
    "ARCHIVE_PATH = os.path.join('Tensorflow', 'workspace', 'images', 'archive.tar.gz')"
   ]
  },
  {
   "cell_type": "code",
   "execution_count": 21,
   "metadata": {},
   "outputs": [],
   "source": [
    "!tar -czf {ARCHIVE_PATH} {TRAIN_PATH} {TEST_PATH}"
   ]
  }
 ],
 "metadata": {
  "kernelspec": {
   "display_name": "Python 3.10.1 ('slrvenv': venv)",
   "language": "python",
   "name": "python3"
  },
  "language_info": {
   "codemirror_mode": {
    "name": "ipython",
    "version": 3
   },
   "file_extension": ".py",
   "mimetype": "text/x-python",
   "name": "python",
   "nbconvert_exporter": "python",
   "pygments_lexer": "ipython3",
   "version": "3.10.1 (tags/v3.10.1:2cd268a, Dec  6 2021, 19:10:37) [MSC v.1929 64 bit (AMD64)]"
  },
  "vscode": {
   "interpreter": {
    "hash": "5eca200aee1dda710c5f150f46ffe2de52f28127790da3088e511ccfd4a91afe"
   }
  }
 },
 "nbformat": 4,
 "nbformat_minor": 2
}
